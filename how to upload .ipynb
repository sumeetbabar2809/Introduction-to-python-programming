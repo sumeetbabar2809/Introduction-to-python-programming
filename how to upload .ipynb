This is .ipynb file 
To open this simply go on your jupiter notebook or google colaboratory notebook - files -  upload notebook and select download "fullpythoncodes.ipynb".
